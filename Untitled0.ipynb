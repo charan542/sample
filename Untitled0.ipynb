{
  "nbformat": 4,
  "nbformat_minor": 0,
  "metadata": {
    "colab": {
      "name": "Untitled0.ipynb",
      "provenance": [],
      "authorship_tag": "ABX9TyNA6N+Ovuc8zelj1SJgAbje",
      "include_colab_link": true
    },
    "kernelspec": {
      "name": "python3",
      "display_name": "Python 3"
    },
    "language_info": {
      "name": "python"
    }
  },
  "cells": [
    {
      "cell_type": "markdown",
      "metadata": {
        "id": "view-in-github",
        "colab_type": "text"
      },
      "source": [
        "<a href=\"https://colab.research.google.com/github/charan542/sample/blob/main/Untitled0.ipynb\" target=\"_parent\"><img src=\"https://colab.research.google.com/assets/colab-badge.svg\" alt=\"Open In Colab\"/></a>"
      ]
    },
    {
      "cell_type": "markdown",
      "metadata": {
        "id": "Y-VUqjikbxN_"
      },
      "source": [
        "factorial of two numbers"
      ]
    },
    {
      "cell_type": "code",
      "metadata": {
        "id": "PAje5pdDb8lU"
      },
      "source": [
        "a=int(input())\n",
        "fact=1\n",
        "for i in range(1,a+1):\n",
        "  fact=fact*i\n",
        "print(\"The factorial of given number is\",fact)\n"
      ],
      "execution_count": null,
      "outputs": []
    },
    {
      "cell_type": "markdown",
      "metadata": {
        "id": "orA3-2OEc26k"
      },
      "source": [
        "sum of two numbers"
      ]
    },
    {
      "cell_type": "code",
      "metadata": {
        "id": "unwl5hrEdHhA"
      },
      "source": [
        "a=int(input())\n",
        "b=int(input())\n",
        "c=a+b\n",
        "print(c)"
      ],
      "execution_count": null,
      "outputs": []
    },
    {
      "cell_type": "markdown",
      "metadata": {
        "id": "9W_VZAj8dv8u"
      },
      "source": [
        "multiplication of two numbers"
      ]
    },
    {
      "cell_type": "code",
      "metadata": {
        "id": "15C_SRMTd1Y7"
      },
      "source": [
        "a=int(input())\n",
        "b=int(input())\n",
        "c=a*b\n",
        "print(c)"
      ],
      "execution_count": null,
      "outputs": []
    }
  ]
}